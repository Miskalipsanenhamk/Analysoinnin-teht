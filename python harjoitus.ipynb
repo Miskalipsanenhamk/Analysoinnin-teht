{
 "cells": [
  {
   "cell_type": "code",
   "execution_count": 7,
   "metadata": {},
   "outputs": [
    {
     "name": "stdout",
     "output_type": "stream",
     "text": [
      "Printer app\n",
      "This app is made by Miska\n"
     ]
    }
   ],
   "source": [
    "print(\"Printer app\")\n",
    "creator = \"Miska\"\n",
    "print(\"This app is made by\" , creator)"
   ]
  },
  {
   "cell_type": "code",
   "execution_count": 8,
   "metadata": {},
   "outputs": [
    {
     "name": "stdout",
     "output_type": "stream",
     "text": [
      "The value of number1 is 10.0\n",
      "The value of number2 is 5.0\n",
      "10.0 * 5.0 = 50.0\n",
      "10.0 + 5.0 = 15.0\n",
      "10.0 - 5.0 = 5.0\n",
      "10.0 / 5.0 = 2.0\n"
     ]
    }
   ],
   "source": [
    "number1 = 10.0\n",
    "number2 = 5.0\n",
    "# type(number1)\n",
    "print(\"The value of number1 is\" , number1)\n",
    "print(\"The value of number2 is\" , number2)\n",
    "\n",
    "multiplication = number1 * number2\n",
    "print(number1 , \"*\" , number2 , \"=\" , multiplication)\n",
    "\n",
    "addition = number1 + number2\n",
    "print(number1 , \"+\" , number2 , \"=\" , addition)\n",
    "\n",
    "division = number1 - number2\n",
    "print(number1 , \"-\" , number2 , \"=\" , division)\n",
    "\n",
    "substraction = number1 / number2\n",
    "print(number1 , \"/\" , number2 , \"=\" , substraction)"
   ]
  }
 ],
 "metadata": {
  "kernelspec": {
   "display_name": "Python 3",
   "language": "python",
   "name": "python3"
  },
  "language_info": {
   "codemirror_mode": {
    "name": "ipython",
    "version": 3
   },
   "file_extension": ".py",
   "mimetype": "text/x-python",
   "name": "python",
   "nbconvert_exporter": "python",
   "pygments_lexer": "ipython3",
   "version": "3.13.0"
  }
 },
 "nbformat": 4,
 "nbformat_minor": 2
}
