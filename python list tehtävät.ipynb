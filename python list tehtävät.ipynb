{
 "cells": [
  {
   "cell_type": "code",
   "execution_count": 20,
   "metadata": {},
   "outputs": [
    {
     "name": "stdout",
     "output_type": "stream",
     "text": [
      "Chair\n",
      "Table\n"
     ]
    }
   ],
   "source": [
    "furnitures = [\"Chair\", \"Table\", \"Shelf\", \"Sofa\"]\n",
    "i = 0\n",
    "for furniture in furnitures:\n",
    "    i = i + 1\n",
    "    if i == 3:\n",
    "        break\n",
    "    print(furniture)\n",
    "\n"
   ]
  },
  {
   "cell_type": "code",
   "execution_count": null,
   "metadata": {},
   "outputs": [
    {
     "name": "stdout",
     "output_type": "stream",
     "text": [
      "[202, 788, 634, 41, 710]\n",
      "2375\n",
      "788\n"
     ]
    }
   ],
   "source": [
    "import random\n",
    "thrownDiceNumber = [random.randint(1, 1000) for _ in range(5)]\n",
    "print(thrownDiceNumber)\n",
    "\n",
    "summa = sum(thrownDiceNumber)\n",
    "print(summa)\n",
    "\n",
    "suurinLuku = thrownDiceNumber[0]\n",
    "for luku in thrownDiceNumber:\n",
    "    if luku > suurinLuku:\n",
    "        suurinLuku = luku\n",
    "print(suurinLuku)"
   ]
  },
  {
   "cell_type": "code",
   "execution_count": 77,
   "metadata": {},
   "outputs": [
    {
     "name": "stdout",
     "output_type": "stream",
     "text": [
      "[[3, 17, 11, 18, 8]]\n"
     ]
    }
   ],
   "source": [
    "#Tehtävä 3\n",
    "import random\n",
    "randomNumerot = [random.sample(range(1, 21), 5)]\n",
    "print(randomNumerot)"
   ]
  },
  {
   "cell_type": "code",
   "execution_count": 22,
   "metadata": {},
   "outputs": [
    {
     "name": "stdout",
     "output_type": "stream",
     "text": [
      "['Chair', 'Table']\n",
      "Found Sofa\n"
     ]
    }
   ],
   "source": [
    "furnitures = [\"Chair\", \"Table\", \"Shelf\", \"Sofa\"]\n",
    "print(furnitures[:2])\n",
    "\n",
    "for furnitures in furnitures:\n",
    "    if \"Sofa\" in furnitures:\n",
    "        print(\"Found Sofa\")"
   ]
  }
 ],
 "metadata": {
  "kernelspec": {
   "display_name": "Python 3",
   "language": "python",
   "name": "python3"
  },
  "language_info": {
   "codemirror_mode": {
    "name": "ipython",
    "version": 3
   },
   "file_extension": ".py",
   "mimetype": "text/x-python",
   "name": "python",
   "nbconvert_exporter": "python",
   "pygments_lexer": "ipython3",
   "version": "3.13.0"
  }
 },
 "nbformat": 4,
 "nbformat_minor": 2
}
