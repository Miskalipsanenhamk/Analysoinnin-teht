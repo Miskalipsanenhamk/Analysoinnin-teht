{
 "cells": [
  {
   "cell_type": "code",
   "execution_count": 4,
   "metadata": {},
   "outputs": [
    {
     "name": "stdout",
     "output_type": "stream",
     "text": [
      "Numbers are not equal\n",
      "number2 is greater than number3\n",
      "Name1 and name2 are not equal\n"
     ]
    }
   ],
   "source": [
    "number1 = 1\n",
    "number2 = 3\n",
    "number3 = 0\n",
    "\n",
    "if number1 == number2:\n",
    "    print(\"Numbers are equal\")\n",
    "if number1 > number2:\n",
    "    print(\"Number1 is greater than number2\")\n",
    "if number1 >= number2:\n",
    "    print(\"Number1 is greater or numbers are equal\")\n",
    "if number1 != number2:\n",
    "    print(\"Numbers are not equal\")\n",
    "\n",
    "if number1 == number2 == number3:\n",
    "    print(\"Three numbers are equal\")\n",
    "if number1 == number2 or number2 == number3:\n",
    "    print(\"Two numbers are equal\")\n",
    "if number1 > number2 and number1 > number3:\n",
    "    print(\"Number1 is the greatest number\")\n",
    "\n",
    "if number1 > number2:\n",
    "    print(\"Number1 is greater than number2\")\n",
    "elif number2 > number3:\n",
    "    print(\"number2 is greater than number3\")\n",
    "if number1 == number2:\n",
    "    print(\"Number1 and number2 are equal\")\n",
    "elif number1 == number3:\n",
    "    print(\"Number1 and number3 are equal\")\n",
    "\n",
    "name1 = \"Arttu\"\n",
    "name2 = \"Andreas\"\n",
    "name3 = \"Tero\"\n",
    "\n",
    "if name1 == name2:\n",
    "    print(\"Name1 and name2 are equal\")\n",
    "if name1 != name2:\n",
    "    print(\"Name1 and name2 are not equal\")\n",
    "if name1 == name2:\n",
    "    print(\"Name1 and name2 are equal\")\n",
    "elif name1 == name3:\n",
    "    print(\"Name1 and name3 are equal\")"
   ]
  }
 ],
 "metadata": {
  "kernelspec": {
   "display_name": "Python 3",
   "language": "python",
   "name": "python3"
  },
  "language_info": {
   "codemirror_mode": {
    "name": "ipython",
    "version": 3
   },
   "file_extension": ".py",
   "mimetype": "text/x-python",
   "name": "python",
   "nbconvert_exporter": "python",
   "pygments_lexer": "ipython3",
   "version": "3.13.0"
  }
 },
 "nbformat": 4,
 "nbformat_minor": 2
}
